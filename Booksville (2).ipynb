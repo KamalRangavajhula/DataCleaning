{
 "cells": [
  {
   "cell_type": "code",
   "execution_count": 95,
   "metadata": {},
   "outputs": [],
   "source": [
    "import numpy as np\n",
    "import pandas as pd\n",
    "import seaborn as sns\n",
    "import matplotlib.pyplot as plt\n",
    "%matplotlib inline"
   ]
  },
  {
   "cell_type": "code",
   "execution_count": 96,
   "metadata": {},
   "outputs": [],
   "source": [
    "path = r'C:\\Users\\kamal\\OneDrive\\Desktop\\Georgetown\\Keepa Extract.xlsx'"
   ]
  },
  {
   "cell_type": "code",
   "execution_count": 97,
   "metadata": {},
   "outputs": [],
   "source": [
    "inp = pd.read_excel(path, index = False)"
   ]
  },
  {
   "cell_type": "code",
   "execution_count": 115,
   "metadata": {},
   "outputs": [
    {
     "data": {
      "text/html": [
       "<div>\n",
       "<style scoped>\n",
       "    .dataframe tbody tr th:only-of-type {\n",
       "        vertical-align: middle;\n",
       "    }\n",
       "\n",
       "    .dataframe tbody tr th {\n",
       "        vertical-align: top;\n",
       "    }\n",
       "\n",
       "    .dataframe thead th {\n",
       "        text-align: right;\n",
       "    }\n",
       "</style>\n",
       "<table border=\"1\" class=\"dataframe\">\n",
       "  <thead>\n",
       "    <tr style=\"text-align: right;\">\n",
       "      <th></th>\n",
       "      <th>productType</th>\n",
       "      <th>asin</th>\n",
       "      <th>author</th>\n",
       "      <th>availabilityAmazon</th>\n",
       "      <th>binding</th>\n",
       "      <th>brand</th>\n",
       "      <th>buyBoxSellerIdHistory</th>\n",
       "      <th>categoryTree_0</th>\n",
       "      <th>categoryTree_1</th>\n",
       "      <th>categoryTree_2</th>\n",
       "      <th>...</th>\n",
       "      <th>trackingSince</th>\n",
       "      <th>type</th>\n",
       "      <th>upc</th>\n",
       "      <th>upcList</th>\n",
       "      <th>variationCSV</th>\n",
       "      <th>variations</th>\n",
       "      <th>amazon_price</th>\n",
       "      <th>marketplace_new_price</th>\n",
       "      <th>marketplace_used_price</th>\n",
       "      <th>sales_rank</th>\n",
       "    </tr>\n",
       "  </thead>\n",
       "  <tbody>\n",
       "    <tr>\n",
       "      <th>0</th>\n",
       "      <td>1</td>\n",
       "      <td>B07B3JQZCL</td>\n",
       "      <td>Michelle Obama</td>\n",
       "      <td>0</td>\n",
       "      <td>Audible Audiobook</td>\n",
       "      <td>NaN</td>\n",
       "      <td>NaN</td>\n",
       "      <td>Books</td>\n",
       "      <td>Subjects</td>\n",
       "      <td>Biographies &amp; Memoirs</td>\n",
       "      <td>...</td>\n",
       "      <td>3765508</td>\n",
       "      <td>9</td>\n",
       "      <td>0</td>\n",
       "      <td>NaN</td>\n",
       "      <td>NaN</td>\n",
       "      <td>NaN</td>\n",
       "      <td>-1</td>\n",
       "      <td>-1</td>\n",
       "      <td>-1</td>\n",
       "      <td>79</td>\n",
       "    </tr>\n",
       "    <tr>\n",
       "      <th>1</th>\n",
       "      <td>0</td>\n",
       "      <td>B07JHVJ5SC</td>\n",
       "      <td>Sudipta Bardhan-Quallen</td>\n",
       "      <td>-1</td>\n",
       "      <td>Kindle Edition</td>\n",
       "      <td>NaN</td>\n",
       "      <td>NaN</td>\n",
       "      <td>Books</td>\n",
       "      <td>Subjects</td>\n",
       "      <td>Children's Books</td>\n",
       "      <td>...</td>\n",
       "      <td>4135600</td>\n",
       "      <td>10</td>\n",
       "      <td>0</td>\n",
       "      <td>NaN</td>\n",
       "      <td>NaN</td>\n",
       "      <td>NaN</td>\n",
       "      <td>-1</td>\n",
       "      <td>3094</td>\n",
       "      <td>-1</td>\n",
       "      <td>1</td>\n",
       "    </tr>\n",
       "    <tr>\n",
       "      <th>2</th>\n",
       "      <td>0</td>\n",
       "      <td>B00XJ108I6</td>\n",
       "      <td>Alan Forbes</td>\n",
       "      <td>-1</td>\n",
       "      <td>Kindle Edition</td>\n",
       "      <td>NaN</td>\n",
       "      <td>NaN</td>\n",
       "      <td>Books</td>\n",
       "      <td>Subjects</td>\n",
       "      <td>Computers &amp; Technology</td>\n",
       "      <td>...</td>\n",
       "      <td>4079996</td>\n",
       "      <td>10</td>\n",
       "      <td>0</td>\n",
       "      <td>NaN</td>\n",
       "      <td>NaN</td>\n",
       "      <td>NaN</td>\n",
       "      <td>-1</td>\n",
       "      <td>698</td>\n",
       "      <td>-1</td>\n",
       "      <td>2</td>\n",
       "    </tr>\n",
       "    <tr>\n",
       "      <th>3</th>\n",
       "      <td>0</td>\n",
       "      <td>1524763136</td>\n",
       "      <td>Michelle Obama</td>\n",
       "      <td>0</td>\n",
       "      <td>Hardcover</td>\n",
       "      <td>AMERICAN WEST BOOKS</td>\n",
       "      <td>NaN</td>\n",
       "      <td>Books</td>\n",
       "      <td>Subjects</td>\n",
       "      <td>Biographies &amp; Memoirs</td>\n",
       "      <td>...</td>\n",
       "      <td>3762476</td>\n",
       "      <td>0</td>\n",
       "      <td>0</td>\n",
       "      <td>NaN</td>\n",
       "      <td>NaN</td>\n",
       "      <td>NaN</td>\n",
       "      <td>1788</td>\n",
       "      <td>1850</td>\n",
       "      <td>1400</td>\n",
       "      <td>3568</td>\n",
       "    </tr>\n",
       "    <tr>\n",
       "      <th>4</th>\n",
       "      <td>0</td>\n",
       "      <td>0735219095</td>\n",
       "      <td>Delia Owens</td>\n",
       "      <td>0</td>\n",
       "      <td>Hardcover</td>\n",
       "      <td>G.P. Putnam's Sons</td>\n",
       "      <td>NaN</td>\n",
       "      <td>Books</td>\n",
       "      <td>Subjects</td>\n",
       "      <td>Literature &amp; Fiction</td>\n",
       "      <td>...</td>\n",
       "      <td>3836972</td>\n",
       "      <td>0</td>\n",
       "      <td>0</td>\n",
       "      <td>NaN</td>\n",
       "      <td>NaN</td>\n",
       "      <td>NaN</td>\n",
       "      <td>1670</td>\n",
       "      <td>1161</td>\n",
       "      <td>1176</td>\n",
       "      <td>32</td>\n",
       "    </tr>\n",
       "  </tbody>\n",
       "</table>\n",
       "<p>5 rows × 79 columns</p>\n",
       "</div>"
      ],
      "text/plain": [
       "   productType        asin                   author  availabilityAmazon  \\\n",
       "0            1  B07B3JQZCL           Michelle Obama                   0   \n",
       "1            0  B07JHVJ5SC  Sudipta Bardhan-Quallen                  -1   \n",
       "2            0  B00XJ108I6              Alan Forbes                  -1   \n",
       "3            0  1524763136           Michelle Obama                   0   \n",
       "4            0  0735219095              Delia Owens                   0   \n",
       "\n",
       "             binding                brand  buyBoxSellerIdHistory  \\\n",
       "0  Audible Audiobook                  NaN                    NaN   \n",
       "1     Kindle Edition                  NaN                    NaN   \n",
       "2     Kindle Edition                  NaN                    NaN   \n",
       "3          Hardcover  AMERICAN WEST BOOKS                    NaN   \n",
       "4          Hardcover   G.P. Putnam's Sons                    NaN   \n",
       "\n",
       "  categoryTree_0 categoryTree_1          categoryTree_2  ... trackingSince  \\\n",
       "0          Books       Subjects   Biographies & Memoirs  ...       3765508   \n",
       "1          Books       Subjects        Children's Books  ...       4135600   \n",
       "2          Books       Subjects  Computers & Technology  ...       4079996   \n",
       "3          Books       Subjects   Biographies & Memoirs  ...       3762476   \n",
       "4          Books       Subjects    Literature & Fiction  ...       3836972   \n",
       "\n",
       "  type upc  upcList variationCSV  variations  amazon_price  \\\n",
       "0    9   0      NaN          NaN         NaN            -1   \n",
       "1   10   0      NaN          NaN         NaN            -1   \n",
       "2   10   0      NaN          NaN         NaN            -1   \n",
       "3    0   0      NaN          NaN         NaN          1788   \n",
       "4    0   0      NaN          NaN         NaN          1670   \n",
       "\n",
       "  marketplace_new_price  marketplace_used_price sales_rank  \n",
       "0                    -1                      -1         79  \n",
       "1                  3094                      -1          1  \n",
       "2                   698                      -1          2  \n",
       "3                  1850                    1400       3568  \n",
       "4                  1161                    1176         32  \n",
       "\n",
       "[5 rows x 79 columns]"
      ]
     },
     "execution_count": 115,
     "metadata": {},
     "output_type": "execute_result"
    }
   ],
   "source": [
    "inp.head(5)"
   ]
  },
  {
   "cell_type": "code",
   "execution_count": 99,
   "metadata": {},
   "outputs": [],
   "source": [
    "from sklearn.preprocessing import LabelEncoder"
   ]
  },
  {
   "cell_type": "code",
   "execution_count": 101,
   "metadata": {},
   "outputs": [
    {
     "data": {
      "text/plain": [
       "array(['Audible Audiobook', 'Kindle Edition', 'Hardcover', 'Paperback',\n",
       "       'Comic', nan, 'Board book', 'Wine', 'Mass Market Paperback',\n",
       "       'Diary', 'Cards', 'Spiral-bound', 'Journal', 'Misc. Supplies',\n",
       "       'Calendar', 'Imitation Leather', 'Hardcover-spiral', 'Plastic Comb',\n",
       "       'Toy', 'Baby Product', 'Flexibound', 'Perfect Paperback',\n",
       "       'Audio CD', 'Pamphlet', 'Leather Bound', 'Stationery', 'Bookmark',\n",
       "       'Loose Leaf', 'Map', 'Single Issue Magazine', 'Electronics', 'Game',\n",
       "       'Library Binding', 'Bonded Leather', 'DVD', 'Sheet music',\n",
       "       'Staple Bound', 'Bath Book', 'Ring-bound', 'Print Magazine',\n",
       "       'Accessory', 'Print on Demand (Paperback)', 'Software Download',\n",
       "       'Office Product', 'Vinyl Bound', 'MP3 CD', 'Textbook Binding',\n",
       "       'Pocket Book', 'Rag Book'], dtype=object)"
      ]
     },
     "execution_count": 101,
     "metadata": {},
     "output_type": "execute_result"
    }
   ],
   "source": [
    "inp['binding'].unique()"
   ]
  },
  {
   "cell_type": "code",
   "execution_count": 103,
   "metadata": {},
   "outputs": [
    {
     "data": {
      "text/plain": [
       "Audible Audiobook              9580\n",
       "Paperback                      6454\n",
       "Hardcover                      2936\n",
       "Board book                      421\n",
       "Mass Market Paperback           196\n",
       "Cards                           133\n",
       "Spiral-bound                    132\n",
       "Imitation Leather                60\n",
       "Calendar                         48\n",
       "Pamphlet                         42\n",
       "Diary                            40\n",
       "Perfect Paperback                30\n",
       "Map                              24\n",
       "Misc. Supplies                   21\n",
       "Hardcover-spiral                 20\n",
       "Software Download                14\n",
       "Plastic Comb                     12\n",
       "Game                             12\n",
       "Leather Bound                    10\n",
       "Flexibound                        9\n",
       "Stationery                        8\n",
       "Single Issue Magazine             8\n",
       "Kindle Edition                    7\n",
       "Sheet music                       7\n",
       "Journal                           6\n",
       "Audio CD                          5\n",
       "Loose Leaf                        5\n",
       "Ring-bound                        5\n",
       "Bookmark                          4\n",
       "Staple Bound                      3\n",
       "Bonded Leather                    3\n",
       "Library Binding                   2\n",
       "Bath Book                         2\n",
       "Print Magazine                    2\n",
       "Electronics                       2\n",
       "Office Product                    2\n",
       "Textbook Binding                  2\n",
       "Comic                             2\n",
       "DVD                               2\n",
       "Toy                               2\n",
       "Rag Book                          1\n",
       "Baby Product                      1\n",
       "MP3 CD                            1\n",
       "Wine                              1\n",
       "Print on Demand (Paperback)       1\n",
       "Pocket Book                       1\n",
       "Vinyl Bound                       1\n",
       "Accessory                         1\n",
       "Name: binding, dtype: int64"
      ]
     },
     "execution_count": 103,
     "metadata": {},
     "output_type": "execute_result"
    }
   ],
   "source": [
    "inp['binding'].value_counts()"
   ]
  },
  {
   "cell_type": "code",
   "execution_count": 88,
   "metadata": {},
   "outputs": [
    {
     "data": {
      "text/plain": [
       "True"
      ]
     },
     "execution_count": 88,
     "metadata": {},
     "output_type": "execute_result"
    }
   ],
   "source": [
    "le = LabelEncoder()\n",
    "inp['binding'].isnull().any().any()\n",
    "# The binding has null values."
   ]
  },
  {
   "cell_type": "code",
   "execution_count": 142,
   "metadata": {},
   "outputs": [],
   "source": [
    "inp[\"binding\"].fillna(\"No Information\", inplace = True)\n",
    "# Replacing missing values with \"Hardcover\""
   ]
  },
  {
   "cell_type": "code",
   "execution_count": 143,
   "metadata": {},
   "outputs": [
    {
     "data": {
      "text/plain": [
       "0"
      ]
     },
     "execution_count": 143,
     "metadata": {},
     "output_type": "execute_result"
    }
   ],
   "source": [
    "inp['binding'].isnull().sum().sum()"
   ]
  },
  {
   "cell_type": "code",
   "execution_count": 144,
   "metadata": {
    "scrolled": true
   },
   "outputs": [],
   "source": [
    "inp['binding'] = le.fit_transform(inp['binding'])"
   ]
  },
  {
   "cell_type": "code",
   "execution_count": 145,
   "metadata": {},
   "outputs": [
    {
     "data": {
      "text/plain": [
       "0     1\n",
       "1    20\n",
       "2    20\n",
       "3    16\n",
       "4    16\n",
       "Name: binding, dtype: int32"
      ]
     },
     "execution_count": 145,
     "metadata": {},
     "output_type": "execute_result"
    }
   ],
   "source": [
    "inp['binding'].head(5)"
   ]
  },
  {
   "cell_type": "code",
   "execution_count": 146,
   "metadata": {},
   "outputs": [
    {
     "data": {
      "text/plain": [
       "False"
      ]
     },
     "execution_count": 146,
     "metadata": {},
     "output_type": "execute_result"
    }
   ],
   "source": [
    "inp['type'].isnull().any().any()\n",
    "# The book type doesn't have any null values."
   ]
  },
  {
   "cell_type": "code",
   "execution_count": 111,
   "metadata": {},
   "outputs": [],
   "source": [
    "inp['type']= le.fit_transform(inp['type'])"
   ]
  },
  {
   "cell_type": "code",
   "execution_count": 116,
   "metadata": {},
   "outputs": [
    {
     "data": {
      "text/plain": [
       "False"
      ]
     },
     "execution_count": 116,
     "metadata": {},
     "output_type": "execute_result"
    }
   ],
   "source": [
    "inp['sales_rank'].isnull().any().any()\n",
    "# Sales rank doesn't have any null values."
   ]
  },
  {
   "cell_type": "code",
   "execution_count": 118,
   "metadata": {},
   "outputs": [
    {
     "data": {
      "text/plain": [
       "False"
      ]
     },
     "execution_count": 118,
     "metadata": {},
     "output_type": "execute_result"
    }
   ],
   "source": [
    "inp['categoryTree_0'].isnull().any().any()"
   ]
  },
  {
   "cell_type": "code",
   "execution_count": 120,
   "metadata": {},
   "outputs": [
    {
     "data": {
      "text/plain": [
       "array(['Books', 'Home & Kitchen', 'Movies & TV'], dtype=object)"
      ]
     },
     "execution_count": 120,
     "metadata": {},
     "output_type": "execute_result"
    }
   ],
   "source": [
    "inp['categoryTree_0'].unique()"
   ]
  },
  {
   "cell_type": "code",
   "execution_count": 121,
   "metadata": {},
   "outputs": [],
   "source": [
    "inp['categoryTree_0'] = le.fit_transform(inp['categoryTree_0'])"
   ]
  },
  {
   "cell_type": "code",
   "execution_count": 122,
   "metadata": {},
   "outputs": [
    {
     "data": {
      "text/plain": [
       "0    20295\n",
       "2        1\n",
       "1        1\n",
       "Name: categoryTree_0, dtype: int64"
      ]
     },
     "execution_count": 122,
     "metadata": {},
     "output_type": "execute_result"
    }
   ],
   "source": [
    "inp['categoryTree_0'].value_counts()\n",
    "# There are three category but it does contain two different categories such as 'Home & Kitchen','Movies & TV'."
   ]
  },
  {
   "cell_type": "code",
   "execution_count": 131,
   "metadata": {},
   "outputs": [
    {
     "data": {
      "text/plain": [
       "0    20295\n",
       "2        1\n",
       "1        1\n",
       "Name: categoryTree_0, dtype: int64"
      ]
     },
     "execution_count": 131,
     "metadata": {},
     "output_type": "execute_result"
    }
   ],
   "source": [
    "inp['categoryTree_0'].value_counts()"
   ]
  },
  {
   "cell_type": "code",
   "execution_count": 134,
   "metadata": {},
   "outputs": [],
   "source": [
    "inp = inp[inp[\"categoryTree_0\"]==0]"
   ]
  },
  {
   "cell_type": "code",
   "execution_count": 136,
   "metadata": {},
   "outputs": [
    {
     "data": {
      "text/plain": [
       "0    20295\n",
       "Name: categoryTree_0, dtype: int64"
      ]
     },
     "execution_count": 136,
     "metadata": {},
     "output_type": "execute_result"
    }
   ],
   "source": [
    "inp['categoryTree_0'].unique()\n",
    "inp['categoryTree_0'].value_counts()\n",
    "# Removed rows which are not part of books category."
   ]
  },
  {
   "cell_type": "code",
   "execution_count": 138,
   "metadata": {},
   "outputs": [
    {
     "data": {
      "text/plain": [
       "Subjects    20295\n",
       "Name: categoryTree_1, dtype: int64"
      ]
     },
     "execution_count": 138,
     "metadata": {},
     "output_type": "execute_result"
    }
   ],
   "source": [
    "inp['categoryTree_1'].unique()\n",
    "inp['categoryTree_1'].value_counts()\n",
    "# There is no use of categoryTree_0 and categoryTree_1 because all the values are the same"
   ]
  },
  {
   "cell_type": "code",
   "execution_count": 140,
   "metadata": {},
   "outputs": [
    {
     "data": {
      "text/plain": [
       "Literature & Fiction                          3801\n",
       "Children's Books                              2840\n",
       "Self-Help                                     2522\n",
       "Christian Books & Bibles                      1162\n",
       "Biographies & Memoirs                         1123\n",
       "Business & Money                              1030\n",
       "Mystery, Thriller & Suspense                   887\n",
       "Science Fiction & Fantasy                      876\n",
       "Health, Fitness & Dieting                      782\n",
       "Arts & Photography                             685\n",
       "Cookbooks, Food & Wine                         615\n",
       "History                                        447\n",
       "Romance                                        442\n",
       "Teen & Young Adult                             346\n",
       "Humor & Entertainment                          330\n",
       "Reference                                      317\n",
       "Crafts, Hobbies & Home                         208\n",
       "Science & Math                                 191\n",
       "Computers & Technology                         162\n",
       "Comics & Graphic Novels                        155\n",
       "Religion & Spirituality                        150\n",
       "Medical Books                                  139\n",
       "Parenting & Relationships                      100\n",
       "Politics & Social Sciences                      97\n",
       "Travel                                          95\n",
       "Education & Teaching                            75\n",
       "Engineering & Transportation                    46\n",
       "Lesbian, Gay, Bisexual & Transgender Books      46\n",
       "Sports & Outdoors                               43\n",
       "Law                                             38\n",
       "Test Preparation                                32\n",
       "Calendars                                        5\n",
       "Name: categoryTree_2, dtype: int64"
      ]
     },
     "execution_count": 140,
     "metadata": {},
     "output_type": "execute_result"
    }
   ],
   "source": [
    "inp['categoryTree_2'].value_counts()"
   ]
  },
  {
   "cell_type": "code",
   "execution_count": 148,
   "metadata": {},
   "outputs": [
    {
     "data": {
      "text/plain": [
       "0"
      ]
     },
     "execution_count": 148,
     "metadata": {},
     "output_type": "execute_result"
    }
   ],
   "source": [
    "inp['categoryTree_2'].isnull().sum().sum()"
   ]
  },
  {
   "cell_type": "code",
   "execution_count": 149,
   "metadata": {},
   "outputs": [],
   "source": [
    "inp[\"categoryTree_2\"].fillna(\"No Information\", inplace = True)\n",
    "inp['categoryTree_2'] = le.fit_transform(inp['categoryTree_2'])\n",
    "# Applied Label encoding for the category tree_2 and replaced null values with No Information"
   ]
  },
  {
   "cell_type": "code",
   "execution_count": 150,
   "metadata": {},
   "outputs": [
    {
     "data": {
      "text/plain": [
       "1260"
      ]
     },
     "execution_count": 150,
     "metadata": {},
     "output_type": "execute_result"
    }
   ],
   "source": [
    "inp['categoryTree_3'].isnull().sum().sum()"
   ]
  },
  {
   "cell_type": "code",
   "execution_count": 152,
   "metadata": {},
   "outputs": [],
   "source": [
    "inp['categoryTree_3'].fillna(\"No further Info\", inplace = True)\n",
    "inp['categoryTree_3'] = le.fit_transform(inp['categoryTree_3'])\n",
    "# Replaced all the categoryTree_3 genre values with no further info."
   ]
  },
  {
   "cell_type": "code",
   "execution_count": 154,
   "metadata": {},
   "outputs": [],
   "source": [
    "inp['categoryTree_4'].isnull().sum().sum()\n",
    "inp['categoryTree_4'].fillna(\"No further classification\", inplace = True)\n",
    "inp['categoryTree_4'] = le.fit_transform(inp['categoryTree_4'])\n",
    "# Replaced all the categoryTree_4 genre values with no further classification provided."
   ]
  },
  {
   "cell_type": "code",
   "execution_count": 155,
   "metadata": {},
   "outputs": [
    {
     "data": {
      "text/plain": [
       "13226"
      ]
     },
     "execution_count": 155,
     "metadata": {},
     "output_type": "execute_result"
    }
   ],
   "source": [
    "inp['brand'].isnull().sum().sum()\n",
    "# For more than half of rows the information about the brand or publishing house is not provided."
   ]
  },
  {
   "cell_type": "code",
   "execution_count": 156,
   "metadata": {},
   "outputs": [],
   "source": [
    "inp['brand'].fillna('Independent Brand/Publisher', inplace = True)\n",
    "inp['brand'] = le.fit_transform(inp['brand'])\n",
    "# Replaced the missing values with Independent Brand/Publisher."
   ]
  },
  {
   "cell_type": "code",
   "execution_count": 158,
   "metadata": {},
   "outputs": [
    {
     "data": {
      "text/plain": [
       "1145    13226\n",
       "2373      198\n",
       "1037      184\n",
       "9         145\n",
       "1918       92\n",
       "Name: brand, dtype: int64"
      ]
     },
     "execution_count": 158,
     "metadata": {},
     "output_type": "execute_result"
    }
   ],
   "source": [
    "inp['brand'].value_counts().head(5)"
   ]
  },
  {
   "cell_type": "code",
   "execution_count": null,
   "metadata": {},
   "outputs": [],
   "source": []
  }
 ],
 "metadata": {
  "kernelspec": {
   "display_name": "Python 3",
   "language": "python",
   "name": "python3"
  },
  "language_info": {
   "codemirror_mode": {
    "name": "ipython",
    "version": 3
   },
   "file_extension": ".py",
   "mimetype": "text/x-python",
   "name": "python",
   "nbconvert_exporter": "python",
   "pygments_lexer": "ipython3",
   "version": "3.6.8"
  }
 },
 "nbformat": 4,
 "nbformat_minor": 2
}
